{
  "cells": [
    {
      "cell_type": "markdown",
      "metadata": {
        "id": "wDhfh5GiZEEO"
      },
      "source": [
        "# Ejercicios de Introducción a Python"
      ]
    },
    {
      "cell_type": "markdown",
      "metadata": {
        "id": "qzhMHBlxZEEQ"
      },
      "source": [
        ":::{exercise}\n",
        ":label: chapter1-merge\n",
        "\n",
        "Crea una función `merge` que acepte un número arbitrario de diccionarios y devuelva un diccionario cuyas claves sean las uniones de las claves de los diccionarios de entradas y los valores listas donde se concatenan los valores de los diccionarios originales. Por ejemplo, \n",
        "\n",
        "```\n",
        "dict1 = {\n",
        "    \"foo\": 1, \n",
        "    \"bar\": [3, 4], \n",
        "    \"baz\": None\n",
        "}\n",
        "\n",
        "dict2 = {\n",
        "    \"foo\": \"Hello world\", \n",
        "    5: \"five\"\n",
        "}\n",
        "\n",
        "dict3 = {\n",
        "    \"bar\": \"yes\"\n",
        "}\n",
        "\n",
        ">>> merge(dict1, dict2, dict3)\n",
        "\n",
        "{\n",
        "    'foo': [1, 'Hello world'], \n",
        "    'bar': [[3, 4], 'yes'], \n",
        "    'baz': [None], \n",
        "    5: ['five']\n",
        "}\n",
        "```\n",
        "\n",
        ":::"
      ]
    },
    {
      "cell_type": "code",
      "source": [
        "dict1 = {\n",
        "    \"foo\": 1, \n",
        "    \"bar\": [3, 4], \n",
        "    \"baz\": None\n",
        "}\n",
        "\n",
        "dict2 = {\n",
        "    \"foo\": \"Hello world\", \n",
        "    5: \"five\"\n",
        "}\n",
        "\n",
        "dict3 = {\n",
        "    \"bar\": \"yes\"\n",
        "}"
      ],
      "metadata": {
        "id": "Yr2SW8EYU8M7"
      },
      "execution_count": 1,
      "outputs": []
    },
    {
      "cell_type": "code",
      "source": [
        "def merge(*dictionaries):\n",
        "  new_dict = {}\n",
        "  keys = []\n",
        "  for d in dictionaries:\n",
        "    ks = d.keys()\n",
        "    for k in ks:\n",
        "      condition = new_dict.get(k,'HolaCaracola')\n",
        "      if condition == \"HolaCaracola\": \n",
        "        new_dict[k] = [d[k]]\n",
        "        print(new_dict)\n",
        "      else:\n",
        "        # new_dict[k].append(d[k])\n",
        "        l = new_dict[k]\n",
        "        l.extend([d[k]])\n",
        "        new_dict.update([(k,l)])\n",
        "        print(new_dict)\n",
        "  return new_dict"
      ],
      "metadata": {
        "id": "_H5fBtLDVRrL"
      },
      "execution_count": 75,
      "outputs": []
    },
    {
      "cell_type": "code",
      "source": [
        "?list.extend"
      ],
      "metadata": {
        "id": "FQymlmGEpHIB"
      },
      "execution_count": 67,
      "outputs": []
    },
    {
      "cell_type": "code",
      "source": [
        "a = [1]\n",
        "a.extend([None])\n",
        "print(a)"
      ],
      "metadata": {
        "id": "4JeG4J4wo6XR",
        "outputId": "1c921da4-2479-4e05-a1b9-2bb4cfd6a5e1",
        "colab": {
          "base_uri": "https://localhost:8080/"
        }
      },
      "execution_count": 73,
      "outputs": [
        {
          "output_type": "stream",
          "name": "stdout",
          "text": [
            "[1, None]\n"
          ]
        }
      ]
    },
    {
      "cell_type": "code",
      "source": [
        "merge(dict1,dict2,dict3)"
      ],
      "metadata": {
        "id": "q2Lgmt9tfG71",
        "outputId": "afb8a8ca-2282-4ae4-c54d-87b8a5f346e6",
        "colab": {
          "base_uri": "https://localhost:8080/"
        }
      },
      "execution_count": 76,
      "outputs": [
        {
          "output_type": "stream",
          "name": "stdout",
          "text": [
            "{'foo': [1]}\n",
            "{'foo': [1], 'bar': [[3, 4]]}\n",
            "{'foo': [1], 'bar': [[3, 4]], 'baz': [None]}\n",
            "{'foo': [1, 'Hello world'], 'bar': [[3, 4]], 'baz': [None]}\n",
            "{'foo': [1, 'Hello world'], 'bar': [[3, 4]], 'baz': [None], 5: ['five']}\n",
            "{'foo': [1, 'Hello world'], 'bar': [[3, 4], 'yes'], 'baz': [None], 5: ['five']}\n"
          ]
        },
        {
          "output_type": "execute_result",
          "data": {
            "text/plain": [
              "{'foo': [1, 'Hello world'], 'bar': [[3, 4], 'yes'], 'baz': [None], 5: ['five']}"
            ]
          },
          "metadata": {},
          "execution_count": 76
        }
      ]
    },
    {
      "cell_type": "code",
      "source": [
        "l = [1,2,3]\n",
        "l.append(1)\n",
        "l"
      ],
      "metadata": {
        "id": "JU1PVE56eWJC",
        "outputId": "18b9a959-c1c6-4b7d-910d-8e32c7cbfbe4",
        "colab": {
          "base_uri": "https://localhost:8080/"
        }
      },
      "execution_count": 4,
      "outputs": [
        {
          "output_type": "execute_result",
          "data": {
            "text/plain": [
              "[1, 2, 3, 1]"
            ]
          },
          "metadata": {},
          "execution_count": 4
        }
      ]
    },
    {
      "cell_type": "markdown",
      "source": [
        ":::{exercise}\n",
        ":label: chapter1-exercises-4\n",
        "\n",
        "Considera el siguiente ejemplo \n",
        "\n",
        "```\n",
        "a = [1, 2, [3, 4]]\n",
        "b = list(a)\n",
        "```\n",
        "\n",
        "¿Cambia algún elemento de la lista `a` tras ejecutar `b.append(100)`?¿Y tras ejecutar `b[2][0] = -100`? ¿Por qué?\n",
        "\n",
        ":::"
      ],
      "metadata": {
        "id": "LZJsa8ZR0zP3"
      }
    },
    {
      "cell_type": "code",
      "source": [
        "id(a) == id(b)"
      ],
      "metadata": {
        "id": "rk9PSLWjl4nd",
        "outputId": "c7aab7f1-aacc-41f4-e8f5-09dab034598d",
        "colab": {
          "base_uri": "https://localhost:8080/"
        }
      },
      "execution_count": 56,
      "outputs": [
        {
          "output_type": "execute_result",
          "data": {
            "text/plain": [
              "False"
            ]
          },
          "metadata": {},
          "execution_count": 56
        }
      ]
    },
    {
      "cell_type": "code",
      "source": [
        "a = [1,2,[3,4]]\n",
        "b = list(a)"
      ],
      "metadata": {
        "id": "Cd0fx_GjkOlg"
      },
      "execution_count": 48,
      "outputs": []
    },
    {
      "cell_type": "code",
      "source": [
        "b.append(100)"
      ],
      "metadata": {
        "id": "Ut0TzmzXkUkO"
      },
      "execution_count": 49,
      "outputs": []
    },
    {
      "cell_type": "code",
      "source": [
        "a"
      ],
      "metadata": {
        "id": "XxQyT7_tkaXD",
        "outputId": "705fd63d-b59e-42a6-d38f-4a882da78dec",
        "colab": {
          "base_uri": "https://localhost:8080/"
        }
      },
      "execution_count": 51,
      "outputs": [
        {
          "output_type": "execute_result",
          "data": {
            "text/plain": [
              "[1, 2, [3, 4]]"
            ]
          },
          "metadata": {},
          "execution_count": 51
        }
      ]
    },
    {
      "cell_type": "code",
      "source": [
        "b"
      ],
      "metadata": {
        "id": "wd3BgaXNkYOp",
        "outputId": "95de253e-60e8-40b3-954f-98d2be68b4f9",
        "colab": {
          "base_uri": "https://localhost:8080/"
        }
      },
      "execution_count": 50,
      "outputs": [
        {
          "output_type": "execute_result",
          "data": {
            "text/plain": [
              "[1, 2, [3, 4], 100]"
            ]
          },
          "metadata": {},
          "execution_count": 50
        }
      ]
    },
    {
      "cell_type": "code",
      "source": [
        "b[2][0]=-100"
      ],
      "metadata": {
        "id": "rs7DGL1lkdbm"
      },
      "execution_count": 52,
      "outputs": []
    },
    {
      "cell_type": "code",
      "source": [
        "id(b[1]) == id(a[1])"
      ],
      "metadata": {
        "id": "lzk5WIUfl__d",
        "outputId": "7b7931a3-cef6-4748-ec2f-47d77be0c1fc",
        "colab": {
          "base_uri": "https://localhost:8080/"
        }
      },
      "execution_count": 59,
      "outputs": [
        {
          "output_type": "execute_result",
          "data": {
            "text/plain": [
              "True"
            ]
          },
          "metadata": {},
          "execution_count": 59
        }
      ]
    },
    {
      "cell_type": "code",
      "source": [
        "a"
      ],
      "metadata": {
        "id": "lWaFCsAgkdAT",
        "outputId": "21ae870a-56ae-488e-872b-7fd6459fd289",
        "colab": {
          "base_uri": "https://localhost:8080/"
        }
      },
      "execution_count": 53,
      "outputs": [
        {
          "output_type": "execute_result",
          "data": {
            "text/plain": [
              "[1, 2, [-100, 4]]"
            ]
          },
          "metadata": {},
          "execution_count": 53
        }
      ]
    },
    {
      "cell_type": "code",
      "source": [
        "b[1] = 1000"
      ],
      "metadata": {
        "id": "EmYlk7jikjBM"
      },
      "execution_count": 60,
      "outputs": []
    },
    {
      "cell_type": "code",
      "source": [
        "id(b[1]) == id(a[1])"
      ],
      "metadata": {
        "id": "n8YBbPVAm7U4",
        "outputId": "520f1ce7-de73-4e70-bf02-d7626bd48b00",
        "colab": {
          "base_uri": "https://localhost:8080/"
        }
      },
      "execution_count": 62,
      "outputs": [
        {
          "output_type": "execute_result",
          "data": {
            "text/plain": [
              "False"
            ]
          },
          "metadata": {},
          "execution_count": 62
        }
      ]
    },
    {
      "cell_type": "code",
      "source": [
        "print(a)\n",
        "print(b)"
      ],
      "metadata": {
        "id": "X_qJt5mBmj0E",
        "outputId": "092388a6-14b1-49be-f3c0-94ae5199c04d",
        "colab": {
          "base_uri": "https://localhost:8080/"
        }
      },
      "execution_count": 61,
      "outputs": [
        {
          "output_type": "stream",
          "name": "stdout",
          "text": [
            "[1, 2, [-100, 4]]\n",
            "[1, 1000, [-100, 4], 100]\n"
          ]
        }
      ]
    },
    {
      "cell_type": "markdown",
      "metadata": {
        "id": "0giHwgj_a9EB"
      },
      "source": [
        ":::{exercise}\n",
        ":label: chapter1-concat_to_str\n",
        "\n",
        "Crea una función `concat_to_str` que convierta una secuencia de objetos de Python en una cadena de transcripciones siguiendo las siguientes normas:\n",
        "\n",
        "- Si el objeto es un entero, entonces escribimos cada dígito en español separados por guiones. Si el entero es negativo, lo indicamos empezando la cadena por `menos`: \n",
        "    - `142` -> `uno-cuatro-dos`\n",
        "    -  `-12` -> `menos-uno-dos`\n",
        "- Si el objeto es un flotante, nos quedamos con la parte entera y hacemos lo mismo que en el caso anterior añadiendo `\"y decimales\"` al final. \n",
        "    - `12.324` -> `uno-dos y decimales`\n",
        "- Si el objeto es una cadena, lo dejamos como está. \n",
        "- Si el objeto es de otro tipo (incluido `bool`), añadimos `\"<OTRO>\"`. \n",
        "\n",
        "Las transcripciones deben estar separas por `\" | \"`. Por ejemplo, \n",
        "\n",
        "```\n",
        ">>> s = concat_to_str([12, -14.23, \"hello\", True, None, 10.1, 5])\n",
        "\"uno-dos | menos-uno-cuatro y decimales\" | hello | <OTRO> | <OTRO> | uno-cero y decimales | cinco\"\n",
        "```\n",
        "\n",
        ":::"
      ]
    },
    {
      "cell_type": "code",
      "source": [
        "from genericpath import isfile\n",
        "def traduce(sentence,o):\n",
        "  if isinstance(o,int):\n",
        "    if o < 0: sentence = sentence + \"menos-\"\n",
        "    for l in str(abs(o)): \n",
        "      if l == \"1\": sentence = sentence + \"uno-\"\n",
        "      if l == \"2\": sentence = sentence + \"dos-\"\n",
        "      if l == \"3\": sentence = sentence + \"tres-\"\n",
        "      if l == \"4\": sentence = sentence + \"cuatro-\"\n",
        "      if l == \"5\": sentence = sentence + \"cinco-\"\n",
        "      if l == \"6\": sentence = sentence + \"seis-\"\n",
        "      if l == \"7\": sentence = sentence + \"siete-\"\n",
        "      if l == \"8\": sentence = sentence + \"ocho-\"\n",
        "      if l == \"9\": sentence = sentence + \"nueve-\"\n",
        "  sentence = sentence[0:len(sentence)-1]\n",
        "  return sentence\n",
        "\n",
        "  \n",
        "\n",
        "def concat_to_str(obj):\n",
        "  sentence = \"\"\n",
        "  for o in obj:\n",
        "    if isinstance(o,int):\n",
        "      print(\"es entero\") \n",
        "      sentence = traduce(sentence,o)\n",
        "      sentence = sentence + \" | \"\n",
        "    elif isinstance(o,float):\n",
        "      print(\"es float\")\n",
        "      o = int(o)\n",
        "      sentence = traduce(sentence,o)\n",
        "      sentence = sentence + \" y decimales | \"\n",
        "    elif isinstance(o,str):\n",
        "      print(\"es str\")\n",
        "      sentence = sentence + o + \" | \"\n",
        "      pass\n",
        "    else: \n",
        "      print(\"es otro\")\n",
        "      sentence = sentence + \" | <OTRO> | \"\n",
        "  return sentence\n",
        "\n"
      ],
      "metadata": {
        "id": "2bE-3q9Blbej"
      },
      "execution_count": 131,
      "outputs": []
    },
    {
      "cell_type": "code",
      "source": [
        "s = concat_to_str([12, -14.23, \"hello\", True, None, 10.1, 5])"
      ],
      "metadata": {
        "id": "nyEuwKCUxBrc",
        "outputId": "160309c1-7ea1-4661-9301-da7f807b203a",
        "colab": {
          "base_uri": "https://localhost:8080/"
        }
      },
      "execution_count": 132,
      "outputs": [
        {
          "output_type": "stream",
          "name": "stdout",
          "text": [
            "es entero\n",
            "es float\n",
            "es str\n",
            "es entero\n",
            "es otro\n",
            "es float\n",
            "es entero\n"
          ]
        }
      ]
    },
    {
      "cell_type": "code",
      "source": [
        "s"
      ],
      "metadata": {
        "id": "wtPfKMqlxitE",
        "outputId": "e96c4200-aadd-4888-b588-15889489ac55",
        "colab": {
          "base_uri": "https://localhost:8080/",
          "height": 35
        }
      },
      "execution_count": 133,
      "outputs": [
        {
          "output_type": "execute_result",
          "data": {
            "text/plain": [
              "'uno-dos | menos-uno-cuatro y decimales | hello | uno |  | <OTRO> | uno y decimales | cinco | '"
            ],
            "application/vnd.google.colaboratory.intrinsic+json": {
              "type": "string"
            }
          },
          "metadata": {},
          "execution_count": 133
        }
      ]
    },
    {
      "cell_type": "code",
      "source": [
        "l = [1,2,3]\n",
        "print(l.pop())\n",
        "print(l)\n",
        "print(abs(-3))\n",
        "print(3.56%1000)"
      ],
      "metadata": {
        "id": "hxuR0_nGsqpG",
        "outputId": "6bdd7dbb-f2ff-4690-b80b-6c37d2d7ffac",
        "colab": {
          "base_uri": "https://localhost:8080/"
        }
      },
      "execution_count": 89,
      "outputs": [
        {
          "output_type": "stream",
          "name": "stdout",
          "text": [
            "3\n",
            "[1, 2]\n",
            "3\n",
            "3.56\n"
          ]
        }
      ]
    },
    {
      "cell_type": "code",
      "source": [
        "int(33.6)"
      ],
      "metadata": {
        "id": "ddCaMiBduRYG",
        "outputId": "edec388c-9b68-4508-c848-5f79c683c712",
        "colab": {
          "base_uri": "https://localhost:8080/"
        }
      },
      "execution_count": 94,
      "outputs": [
        {
          "output_type": "execute_result",
          "data": {
            "text/plain": [
              "33"
            ]
          },
          "metadata": {},
          "execution_count": 94
        }
      ]
    },
    {
      "cell_type": "markdown",
      "source": [
        ":::{exercise}\n",
        ":label: chapter1-books\n",
        "\n",
        "Visita [este sitio web](https://gutenberg.org/browse/scores/top#books-last30) y copia el enlace de descarga de un libro a tu elección en texto plano en una variable `url`. Por ejemplo, [este](https://gutenberg.org/cache/epub/1342/pg1342.txt) es el enlace de descarga de *Orgullo y Prejuicio*. \n",
        "\n",
        "Utiliza el módulo `requests` para realizar una petición http y guardar el cuerpo de la respuesta en una variable `book` tal y como se indica a continuación \n",
        "\n",
        "```\n",
        "import requests\n",
        "\n",
        "url = \"https://gutenberg.org/cache/epub/1342/pg1342.txt\"\n",
        "book_request = requests.get(url)\n",
        "book = book_request.text\n",
        "```\n",
        "\n",
        "Escribe una función `count_words` que devuelva un diccionario con las 50 palabras más frecuentes del libro que tenga como claves dichas palabras y como valor el número de apariciones. \n",
        "\n",
        ":::"
      ],
      "metadata": {
        "id": "WFflJSheU4-w"
      }
    },
    {
      "cell_type": "code",
      "source": [
        "import requests\n",
        "\n",
        "url = \"https://gutenberg.org/cache/epub/1342/pg1342.txt\"\n",
        "book_request = requests.get(url)\n",
        "book = book_request.text"
      ],
      "metadata": {
        "id": "Qb4HlvzqyGlO"
      },
      "execution_count": 104,
      "outputs": []
    },
    {
      "cell_type": "code",
      "source": [
        "book_filt = [word for word in book.split(\" \") if word != \"\"]"
      ],
      "metadata": {
        "id": "TA0tFQyEyLur"
      },
      "execution_count": 136,
      "outputs": []
    },
    {
      "cell_type": "code",
      "source": [
        "def count_list(l):\n",
        "  d = dict()\n",
        "  for i in l:\n",
        "    if i in d.keys():\n",
        "      d[i] += 1\n",
        "    else:\n",
        "      d[i] = 1\n",
        "  return d"
      ],
      "metadata": {
        "id": "GNM5wPzC1tOx"
      },
      "execution_count": 141,
      "outputs": []
    },
    {
      "cell_type": "code",
      "source": [
        "test = [1,1,1,1,4,4,4,2,2,2,None]"
      ],
      "metadata": {
        "id": "HxaCwb5W2hDK"
      },
      "execution_count": 140,
      "outputs": []
    },
    {
      "cell_type": "code",
      "source": [
        "count_list(test)"
      ],
      "metadata": {
        "id": "cm9muZof2g6D",
        "outputId": "952fd83e-3d9e-4f20-a99a-3362e68a9e02",
        "colab": {
          "base_uri": "https://localhost:8080/"
        }
      },
      "execution_count": 142,
      "outputs": [
        {
          "output_type": "execute_result",
          "data": {
            "text/plain": [
              "{1: 4, 4: 3, 2: 3, None: 1}"
            ]
          },
          "metadata": {},
          "execution_count": 142
        }
      ]
    },
    {
      "cell_type": "markdown",
      "source": [
        ":::{exercise}\n",
        ":label: chapter1-shopping-cart\n",
        "\n",
        "Crea una clase `CarritoCompra`, donde cada instancia almacenará dos listas de cadenas representando productos\n",
        "\n",
        "- una lista para productos que necesitamos, `necesitados`. \n",
        "- otra para productos ya comprados, `comprados`.\n",
        "\n",
        "Un producto no puede aparecer más de una vez en cada lista. \n",
        "\n",
        "Crea un método `__init__` que acepte una cadena o un iterable de cadenas representando productos que se añadirán a la lista de `necesitados` y además métodos para \n",
        "\n",
        "- `añade_necestiados`: añadir nuevos elementos necesitados al carrito,\n",
        "- `compra`: marcar un producto como comprado (pasa de necesitados a comprados),\n",
        "- `elimina_necesitados`, `elimina_comprados`: eliminar productos, ya sea de la lista de necesitados o comprados,\n",
        "- `lista_necestiados` y `lista_comprados`: listar los elementos necesitados o comprados en orden alfabético.\n",
        "\n",
        ":::"
      ],
      "metadata": {
        "id": "-xt1nDKN0wuN"
      }
    }
  ],
  "metadata": {
    "colab": {
      "provenance": []
    },
    "kernelspec": {
      "display_name": "Python 3.9.1 64-bit",
      "language": "python",
      "name": "python3"
    },
    "language_info": {
      "name": "python",
      "version": "3.9.1"
    },
    "orig_nbformat": 4,
    "vscode": {
      "interpreter": {
        "hash": "397704579725e15f5c7cb49fe5f0341eb7531c82d19f2c29d197e8b64ab5776b"
      }
    }
  },
  "nbformat": 4,
  "nbformat_minor": 0
}