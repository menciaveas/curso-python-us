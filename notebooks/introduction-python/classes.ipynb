{
  "cells": [
    {
      "cell_type": "markdown",
      "metadata": {
        "id": "6Dhuw5qQvQ5u"
      },
      "source": [
        "# Clases \n",
        "\n",
        "Como ya hemos visto cuando hemos tratado con los predefinidas de Python (cadenas, enteros, booleanos etc), una clase es una forma de encapsular un conjunto de datos o **atributos** más una serie de **métodos** que nos permiten gestionar estos datos e interactuar con el resto del programa. \n",
        "\n",
        "Para definir una clase en Python, utilizamos el comando `class`. Por ejemplo, imaginemos que queremos trabajar con puntos del plano en nuestro programa. Sería interesante crear una clase como la siguiente"
      ]
    },
    {
      "cell_type": "code",
      "source": [
        "import math\n",
        "\n",
        "class Punto:\n",
        "    def __init__(self, x=0, y=0):\n",
        "        self.x = x\n",
        "        self.y = y\n",
        "        \n",
        "    def distancia_al_origen(self):\n",
        "        dist = math.sqrt(self.x**2 + self.y**2)\n",
        "        return dist"
      ],
      "metadata": {
        "id": "9OV2GgVocU0D"
      },
      "execution_count": 30,
      "outputs": []
    },
    {
      "cell_type": "markdown",
      "source": [
        "Al definir una clase, estamos describiendo *una estructura o patrón* que queremos seguir a la hora de **crear instancias de la clase**. En la definición de la clase, `self` hace referencia al propio objeto. Siempre es el primer argumento de los métodos que se definen en la clase. Este primer argumento no se hará explícito cuando se use el método, sino que toma su valor del objeto sobre el que se evalúa el método."
      ],
      "metadata": {
        "id": "Clkjz2XbMljs"
      }
    },
    {
      "cell_type": "markdown",
      "source": [
        "El método `__init__` es un método especial que define **cómo se construyen inicialmente los objetos de la clase**. En el ejemplo anterior, el constructor recibe como argumentos de entrada dos valores `x`e `y` (por defecto con valor 0). Esos valores se almacenan respectivamente en los atributos de la clase `x` e `y` (que en este caso tienen el mismo nombre, pero no necesariamente tiene que ser así).\n",
        "\n",
        "> Siempre que creemos una instancia de la clase, llamaremos al método `__init__`."
      ],
      "metadata": {
        "id": "LY67GmrpM1RG"
      }
    },
    {
      "cell_type": "markdown",
      "source": [
        "Para crear *objetos* de un clase, simplemente se llama al nombre de la clase junto con los argumentos de entrada al constructor (excepto el primer argumento, `self`). Lo que sige define un objeto de la clase `Punto` y lo asigna a una variable `p`: "
      ],
      "metadata": {
        "id": "NPfYTGkLNOS_"
      }
    },
    {
      "cell_type": "code",
      "source": [
        "p = Punto(2,3)"
      ],
      "metadata": {
        "id": "q4tMNdwANZA-"
      },
      "execution_count": null,
      "outputs": []
    },
    {
      "cell_type": "markdown",
      "source": [
        "En general, si tenemos un objeto `o` y uno de sus atributos `atr`, para acceder al valor de ese atributo en el objeto lo hacemos con la notación `o.atr`. Si se trata de un método `f`, se aplica con la notación `o.f(...)`, proporcionando los argumentos de entrada que se han definido para el método (excepto el primer argumento, que no se proporciona ya que es el propio objeto). También existen funciones como \n",
        "- `getattr` \n",
        "- `setattr`\n",
        "- `delattr`\n",
        "\n",
        "que aceptan como primer parámetro un objeto y como segundo una cadena con el nombre del atributo. "
      ],
      "metadata": {
        "id": "cQELWxGVNelV"
      }
    },
    {
      "cell_type": "code",
      "source": [
        "p.x"
      ],
      "metadata": {
        "colab": {
          "base_uri": "https://localhost:8080/"
        },
        "id": "X2trcTUwNr7l",
        "outputId": "4a3c7e13-161a-4e7b-9fa8-0635a38877b9"
      },
      "execution_count": null,
      "outputs": [
        {
          "output_type": "execute_result",
          "data": {
            "text/plain": [
              "2"
            ]
          },
          "metadata": {},
          "execution_count": 14
        }
      ]
    },
    {
      "cell_type": "code",
      "source": [
        "p.y"
      ],
      "metadata": {
        "colab": {
          "base_uri": "https://localhost:8080/"
        },
        "id": "cwJUz8rfNswn",
        "outputId": "7b82256b-3708-4fc0-a0bf-0eacd5534fac"
      },
      "execution_count": null,
      "outputs": [
        {
          "output_type": "execute_result",
          "data": {
            "text/plain": [
              "3"
            ]
          },
          "metadata": {},
          "execution_count": 15
        }
      ]
    },
    {
      "cell_type": "code",
      "source": [
        "p.distancia_al_origen()"
      ],
      "metadata": {
        "colab": {
          "base_uri": "https://localhost:8080/"
        },
        "id": "jZpfxSEiNtTu",
        "outputId": "0946f612-6867-45e5-a256-6fcb4fa5a5ea"
      },
      "execution_count": null,
      "outputs": [
        {
          "output_type": "execute_result",
          "data": {
            "text/plain": [
              "3.605551275463989"
            ]
          },
          "metadata": {},
          "execution_count": 16
        }
      ]
    },
    {
      "cell_type": "markdown",
      "source": [
        "La función `dir(obj)` nos devuelve el conjunto de métodos disponibles para un objeto."
      ],
      "metadata": {
        "id": "OmKcOjoaPfD7"
      }
    },
    {
      "cell_type": "code",
      "source": [
        "dir(p)"
      ],
      "metadata": {
        "colab": {
          "base_uri": "https://localhost:8080/"
        },
        "id": "tAfzmBLOPySd",
        "outputId": "e40cee88-b084-42a1-a105-7f22c236bc08"
      },
      "execution_count": null,
      "outputs": [
        {
          "output_type": "execute_result",
          "data": {
            "text/plain": [
              "['__class__',\n",
              " '__delattr__',\n",
              " '__dict__',\n",
              " '__dir__',\n",
              " '__doc__',\n",
              " '__eq__',\n",
              " '__format__',\n",
              " '__ge__',\n",
              " '__getattribute__',\n",
              " '__gt__',\n",
              " '__hash__',\n",
              " '__init__',\n",
              " '__init_subclass__',\n",
              " '__le__',\n",
              " '__lt__',\n",
              " '__module__',\n",
              " '__ne__',\n",
              " '__new__',\n",
              " '__reduce__',\n",
              " '__reduce_ex__',\n",
              " '__repr__',\n",
              " '__setattr__',\n",
              " '__sizeof__',\n",
              " '__str__',\n",
              " '__subclasshook__',\n",
              " '__weakref__',\n",
              " 'distancia_al_origen',\n",
              " 'x',\n",
              " 'y']"
            ]
          },
          "metadata": {},
          "execution_count": 24
        }
      ]
    },
    {
      "cell_type": "markdown",
      "source": [
        ":::{exercise}\n",
        ":label: classes-example\n",
        "\n",
        "Crea una clase `Perro` que tenga los atributos `nombre` y `edad` y los siguientes métodos:\n",
        "- `ladra`: escribe un mensaje por pantalla.\n",
        "- `crece`: aumenta la edad del perro un uno.\n",
        "- `__str__`: para representar adecuadamente una instancia de `Perro` como cadena.\n",
        "\n",
        ":::"
      ],
      "metadata": {
        "id": "AvS1HFVOVtkw"
      }
    },
    {
      "cell_type": "code",
      "source": [
        "class Perro:\n",
        "  def __init__(self,nombre = \"Pepe\",edad = 1):\n",
        "    self.nombre = nombre\n",
        "    self.edad = edad\n",
        "\n",
        "  def __str__(self):\n",
        "    msg=f\"\"\"Soy {self.nombre} y tengo {self.edad} años\"\"\"\n",
        "    return f\n",
        "\n",
        "  def ladra(self):\n",
        "    print(\"¡Guau, guau!\") \n",
        "\n",
        "  def crece(self):\n",
        "    self.edad += 1\n",
        "    print(\"He crecido 1 año, ahora tengo \"+str(self.edad)+\" años\")\n",
        "\n",
        "  "
      ],
      "metadata": {
        "id": "YySRDHT_DRtH"
      },
      "execution_count": 27,
      "outputs": []
    },
    {
      "cell_type": "code",
      "source": [
        "miperro = Perro(\"Kenay\",7)"
      ],
      "metadata": {
        "id": "CFkvy91zG1sR"
      },
      "execution_count": 18,
      "outputs": []
    },
    {
      "cell_type": "code",
      "source": [
        "miperro.crece()"
      ],
      "metadata": {
        "id": "dQ98DUnjG8hZ",
        "outputId": "30816753-71d1-41d6-b868-1578c55b7d65",
        "colab": {
          "base_uri": "https://localhost:8080/"
        }
      },
      "execution_count": 19,
      "outputs": [
        {
          "output_type": "stream",
          "name": "stdout",
          "text": [
            "He crecido 1 año, ahora tengo 8años\n"
          ]
        }
      ]
    },
    {
      "cell_type": "code",
      "source": [
        "miperro.nombre"
      ],
      "metadata": {
        "id": "dNXnhQbXG_Ud",
        "outputId": "777e5a4b-5620-46eb-c6b7-1b9616d17163",
        "colab": {
          "base_uri": "https://localhost:8080/",
          "height": 35
        }
      },
      "execution_count": 25,
      "outputs": [
        {
          "output_type": "execute_result",
          "data": {
            "text/plain": [
              "'Kenay'"
            ],
            "application/vnd.google.colaboratory.intrinsic+json": {
              "type": "string"
            }
          },
          "metadata": {},
          "execution_count": 25
        }
      ]
    },
    {
      "cell_type": "code",
      "source": [
        "miperro.edad"
      ],
      "metadata": {
        "id": "PyKLVgUeISHh",
        "outputId": "0f0690f8-ff3a-48eb-c828-b6915d2c0f00",
        "colab": {
          "base_uri": "https://localhost:8080/"
        }
      },
      "execution_count": 26,
      "outputs": [
        {
          "output_type": "execute_result",
          "data": {
            "text/plain": [
              "8"
            ]
          },
          "metadata": {},
          "execution_count": 26
        }
      ]
    },
    {
      "cell_type": "code",
      "source": [
        "miperro.ladra()"
      ],
      "metadata": {
        "id": "LQARKWeDHFkF",
        "outputId": "039814d4-eed7-4a7f-bf03-4883e15b26cc",
        "colab": {
          "base_uri": "https://localhost:8080/"
        }
      },
      "execution_count": 22,
      "outputs": [
        {
          "output_type": "stream",
          "name": "stdout",
          "text": [
            "¡Guau, guau!\n"
          ]
        }
      ]
    },
    {
      "cell_type": "code",
      "source": [
        "print(miperro)"
      ],
      "metadata": {
        "id": "Xf22268YHLE-",
        "outputId": "c6f8eaf1-7b30-4a81-b992-7076544e20b3",
        "colab": {
          "base_uri": "https://localhost:8080/"
        }
      },
      "execution_count": 24,
      "outputs": [
        {
          "output_type": "stream",
          "name": "stdout",
          "text": [
            "Soy Kenay y tengo 8 años\n"
          ]
        }
      ]
    },
    {
      "cell_type": "markdown",
      "source": [
        "---\n",
        "## Métodos especiales\n",
        "\n",
        "Hay otros **métodos especiales** que se pueden definir en todas las clases, y que tienen nombres especiales reservados. No es obligatorio definirlos, pero si se definen en la clase tienen una finalidad específica. Tienen sus nombres entre dobles guinoes bajos, como `__eq__`, que sirve para definir cómo se comparan dos objetos de la clase; o `__str__`, que sirve para proporcionar una representación de un objeto de la clase en forma de cadena."
      ],
      "metadata": {
        "id": "9JbEbzLONwJB"
      }
    },
    {
      "cell_type": "code",
      "source": [
        "class PuntoV2():\n",
        "    def __init__(self, x=0, y=0):\n",
        "        self.x = x\n",
        "        self.y = y\n",
        "        \n",
        "    def distancia_al_origen(self):\n",
        "        dist = math.sqrt(self.x**2 + self.y**2)\n",
        "        return dist\n",
        "\n",
        "    def __eq__(self,punto):\n",
        "        return self.x == punto.x and self.y == punto.y\n",
        "\n",
        "    def __str__(self):\n",
        "        return f\"Punto(x = {self.x:.3f}, y = {self.y:.3f})\""
      ],
      "metadata": {
        "id": "ZyfPSQiNOdtZ"
      },
      "execution_count": 28,
      "outputs": []
    },
    {
      "cell_type": "code",
      "source": [
        "a = Punto(1, 1)\n",
        "p = PuntoV2(3, 4)\n",
        "q = PuntoV2(2, 5)\n",
        "r = PuntoV2(3, 4)"
      ],
      "metadata": {
        "id": "jP2dYeD3RnF8"
      },
      "execution_count": 31,
      "outputs": []
    },
    {
      "cell_type": "code",
      "source": [
        "print(a)"
      ],
      "metadata": {
        "colab": {
          "base_uri": "https://localhost:8080/"
        },
        "id": "0mBnJdsJSLlx",
        "outputId": "13f1bf28-a8df-435f-c320-f3ba737ef669"
      },
      "execution_count": 32,
      "outputs": [
        {
          "output_type": "stream",
          "name": "stdout",
          "text": [
            "<__main__.Punto object at 0x7f142861d350>\n"
          ]
        }
      ]
    },
    {
      "cell_type": "code",
      "source": [
        "id(p) == id(r)"
      ],
      "metadata": {
        "id": "PyWe0IYQKur7",
        "outputId": "50d63acf-9c0c-499a-d3d5-bc22c4c32b65",
        "colab": {
          "base_uri": "https://localhost:8080/"
        }
      },
      "execution_count": 36,
      "outputs": [
        {
          "output_type": "execute_result",
          "data": {
            "text/plain": [
              "False"
            ]
          },
          "metadata": {},
          "execution_count": 36
        }
      ]
    },
    {
      "cell_type": "code",
      "source": [
        "p == r"
      ],
      "metadata": {
        "id": "dcDKSywGK6Qa",
        "outputId": "7fdaab4e-75a5-4755-8867-0e3b2ffd4593",
        "colab": {
          "base_uri": "https://localhost:8080/"
        }
      },
      "execution_count": 37,
      "outputs": [
        {
          "output_type": "execute_result",
          "data": {
            "text/plain": [
              "True"
            ]
          },
          "metadata": {},
          "execution_count": 37
        }
      ]
    },
    {
      "cell_type": "code",
      "source": [
        "print(p)"
      ],
      "metadata": {
        "colab": {
          "base_uri": "https://localhost:8080/"
        },
        "id": "Jm65X90iR-ho",
        "outputId": "128a3ceb-cc1f-4d5d-823c-91124d3c8c6c"
      },
      "execution_count": null,
      "outputs": [
        {
          "output_type": "stream",
          "name": "stdout",
          "text": [
            "Punto(x = 3.000, y = 4.000)\n"
          ]
        }
      ]
    },
    {
      "cell_type": "code",
      "source": [
        "p == q"
      ],
      "metadata": {
        "colab": {
          "base_uri": "https://localhost:8080/"
        },
        "id": "rYVGykj5RqBZ",
        "outputId": "d2bbd47e-d6aa-449a-940a-379198812ef5"
      },
      "execution_count": null,
      "outputs": [
        {
          "output_type": "execute_result",
          "data": {
            "text/plain": [
              "False"
            ]
          },
          "metadata": {},
          "execution_count": 46
        }
      ]
    },
    {
      "cell_type": "code",
      "source": [
        "p == r"
      ],
      "metadata": {
        "colab": {
          "base_uri": "https://localhost:8080/"
        },
        "id": "aMibGfQgR5OD",
        "outputId": "6062d858-b373-4f89-dc5a-9378b3a1f093"
      },
      "execution_count": null,
      "outputs": [
        {
          "output_type": "execute_result",
          "data": {
            "text/plain": [
              "True"
            ]
          },
          "metadata": {},
          "execution_count": 47
        }
      ]
    },
    {
      "cell_type": "markdown",
      "source": [
        ":::{exercise}\n",
        ":label: classes-point\n",
        "\n",
        "Crea la clase `PointV3` copiando el código de `PointV2` y añadiendo el método especial `__add__` que nos permita sumar puntos del plano. Añade otro método que incluya un parámetro `p` para calcular la [norma p](https://en.wikipedia.org/wiki/Norm_(mathematics)#p-norm) de un punto. Crea otro método `dot` que implemente el producto escalar de los vectores correspondientes.\n",
        "\n",
        ":::"
      ],
      "metadata": {
        "id": "msITaDPbR55N"
      }
    },
    {
      "cell_type": "code",
      "source": [
        "import math\n",
        "\n",
        "class PuntoV3():\n",
        "    def __init__(self, x=0, y=0):\n",
        "        self.x = x\n",
        "        self.y = y\n",
        "    \n",
        "    def __eq__(self,punto):\n",
        "        return self.x == punto.x and self.y == punto.y\n",
        "\n",
        "    def __str__(self):\n",
        "        return f\"Punto(x = {self.x:.3f}, y = {self.y:.3f})\"\n",
        "    \n",
        "    def __add__(self,punto):\n",
        "      x = self.x + punto.x\n",
        "      y = self.y + punto.y\n",
        "      q = PuntoV3(x,y)\n",
        "      return q\n",
        "        \n",
        "    def distancia_al_origen(self):\n",
        "        dist = math.sqrt(self.x**2 + self.y**2)\n",
        "        return dist\n",
        "\n",
        "    def norma(self,p):\n",
        "      n = (self.x**p+self.y**p)**(1/p)\n",
        "      return n\n",
        "\n",
        "    def dot(self,punto):\n",
        "      res = self.x * punto.x + self.y * punto.y\n",
        "      return res\n",
        "\n",
        "    \n"
      ],
      "metadata": {
        "id": "VcUyOEygL8c5"
      },
      "execution_count": 51,
      "outputs": []
    },
    {
      "cell_type": "code",
      "source": [
        "p = PuntoV3(1,1)\n",
        "q = PuntoV3(-1,1)\n",
        "print(p == q)\n",
        "print(p)\n",
        "print(q)\n",
        "print(p.norma(2))\n",
        "print(q.norma(2))\n",
        "print(p+q)\n",
        "print(p.dot(q))"
      ],
      "metadata": {
        "id": "GOp_HqvONaO9",
        "outputId": "82853644-5e2a-4c68-e3db-8f850c343c2e",
        "colab": {
          "base_uri": "https://localhost:8080/"
        }
      },
      "execution_count": 55,
      "outputs": [
        {
          "output_type": "stream",
          "name": "stdout",
          "text": [
            "False\n",
            "Punto(x = 1.000, y = 1.000)\n",
            "Punto(x = -1.000, y = 1.000)\n",
            "1.4142135623730951\n",
            "1.4142135623730951\n",
            "Punto(x = 0.000, y = 2.000)\n",
            "0\n"
          ]
        }
      ]
    },
    {
      "cell_type": "markdown",
      "source": [
        "## Subclases y herencia\n",
        "\n"
      ],
      "metadata": {
        "id": "senrbd33WXWs"
      }
    },
    {
      "cell_type": "markdown",
      "source": [
        "La **herencia** es un mecanismo para crear nuevas clases que especializan o modifican el comportamiento de una clase ya existente. Cuando una clase se crea vía herencia, hereda los atributos y los métodos de la clase base, con la posibilidad de ampliarlos, modificarlos o redefinirlos. "
      ],
      "metadata": {
        "id": "iOvDTcmNXEpD"
      }
    },
    {
      "cell_type": "markdown",
      "source": [
        "La herencia se especifica incluyendo entre parántesis las clases base de las que queremos heredar en el enunciado `class`. Por ejemplo podemos crear una clase `Circulo` que herede de punto "
      ],
      "metadata": {
        "id": "q5H0wcr8pmOt"
      }
    },
    {
      "cell_type": "code",
      "source": [
        "class Circulo(PuntoV2):\n",
        "    def __init__(self, radio=1, x=0, y=0):\n",
        "        super().__init__(x, y)\n",
        "        self.radio = radio\n",
        "\n",
        "    def distancia_al_origen(self):\n",
        "        dist = math.sqrt(self.x**2 + self.y**2) - self.radio\n",
        "        return dist\n",
        "\n",
        "    def calcula_area(self):\n",
        "        area = 2 * math.pi * self.radio**2\n",
        "        return area\n",
        "\n",
        "    def __eq__(self, circulo):\n",
        "        son_iguales = (\n",
        "            self.x == circulo.x and \n",
        "            self.y == circulo.y and \n",
        "            self.radio == self.radio\n",
        "        )\n",
        "        return son_iguales\n",
        "\n",
        "    def __str__(self):\n",
        "        return f\"Circulo (x = {self.x:.3f}, y = {self.y:.3f}, radio = {self.radio:.3})\""
      ],
      "metadata": {
        "id": "1LHw-ysHp6JS"
      },
      "execution_count": null,
      "outputs": []
    },
    {
      "cell_type": "markdown",
      "source": [
        "En este ejemplo, estamos accediendo a los métodos de la clase base mediante la función `super()`, en particular estamos creando los atributos correspondiente a la clase `PuntoV2` más el nuevo atributo `radio`. También estamos redefiniendo los métodos `distancia_al_origen`, `__eq__` y `__str__`. Finalmente, añadimos un nuevo método `calcula_area`, que no pertenece a la clase `Punto`. "
      ],
      "metadata": {
        "id": "Baivxh5Ar6gi"
      }
    },
    {
      "cell_type": "markdown",
      "source": [
        ":::{exercise}\n",
        ":label: chapter1-classes-back-account\n",
        "\n",
        "Escribe una clase `Cuenta` que represente una cuenta bancaria. Dicha clase tendrá los siguientes atributos\n",
        "\n",
        "- `nombre`\n",
        "- `deposito`\n",
        "\n",
        "Incluye métodos para depositar y retirar cantidades. Incluye otro método `retira` para retirar todo el dinero de la cuenta.\n",
        "\n",
        "Escribe una clase hija `CuentaInversion` con un atributo más llamado `riesgo` en la que el método `retira` multiplica el depósito por un número tomado de una distribución normal de media uno y desviación estándar `riesgo`.\n",
        "\n",
        ":::"
      ],
      "metadata": {
        "id": "xM909soLJXQp"
      }
    }
  ],
  "metadata": {
    "kernelspec": {
      "display_name": "Python 3.9.1 64-bit",
      "language": "python",
      "name": "python3"
    },
    "language_info": {
      "name": "python",
      "version": "3.9.1"
    },
    "orig_nbformat": 4,
    "vscode": {
      "interpreter": {
        "hash": "397704579725e15f5c7cb49fe5f0341eb7531c82d19f2c29d197e8b64ab5776b"
      }
    },
    "colab": {
      "provenance": []
    }
  },
  "nbformat": 4,
  "nbformat_minor": 0
}